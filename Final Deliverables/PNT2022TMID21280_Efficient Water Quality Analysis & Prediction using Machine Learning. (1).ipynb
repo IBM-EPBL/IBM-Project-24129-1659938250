{
 "cells": [
  {
   "cell_type": "markdown",
   "id": "d9443486",
   "metadata": {},
   "source": [
    "# Importing Libraries:"
   ]
  },
  {
   "cell_type": "code",
   "execution_count": 1,
   "id": "36cbe381",
   "metadata": {},
   "outputs": [],
   "source": [
    "import numpy as np\n",
    "import pandas as pd\n",
    "import seaborn as sns\n",
    "import matplotlib.pyplot as plt\n",
    "import warnings"
   ]
  },
  {
   "cell_type": "markdown",
   "id": "4c5e44f4",
   "metadata": {},
   "source": [
    "# Reading the dataset:"
   ]
  },
  {
   "cell_type": "code",
   "execution_count": 2,
   "id": "1e535039",
   "metadata": {},
   "outputs": [],
   "source": [
    "data=pd.read_csv('water_dataX.csv',encoding='ISO-8859-1',low_memory=False)"
   ]
  },
  {
   "cell_type": "code",
   "execution_count": 3,
   "id": "18d18acb",
   "metadata": {},
   "outputs": [
    {
     "data": {
      "text/html": [
       "<div>\n",
       "<style scoped>\n",
       "    .dataframe tbody tr th:only-of-type {\n",
       "        vertical-align: middle;\n",
       "    }\n",
       "\n",
       "    .dataframe tbody tr th {\n",
       "        vertical-align: top;\n",
       "    }\n",
       "\n",
       "    .dataframe thead th {\n",
       "        text-align: right;\n",
       "    }\n",
       "</style>\n",
       "<table border=\"1\" class=\"dataframe\">\n",
       "  <thead>\n",
       "    <tr style=\"text-align: right;\">\n",
       "      <th></th>\n",
       "      <th>STATION CODE</th>\n",
       "      <th>LOCATIONS</th>\n",
       "      <th>STATE</th>\n",
       "      <th>Temp</th>\n",
       "      <th>D.O. (mg/l)</th>\n",
       "      <th>PH</th>\n",
       "      <th>CONDUCTIVITY (µmhos/cm)</th>\n",
       "      <th>B.O.D. (mg/l)</th>\n",
       "      <th>NITRATENAN N+ NITRITENANN (mg/l)</th>\n",
       "      <th>FECAL COLIFORM (MPN/100ml)</th>\n",
       "      <th>TOTAL COLIFORM (MPN/100ml)Mean</th>\n",
       "      <th>year</th>\n",
       "    </tr>\n",
       "  </thead>\n",
       "  <tbody>\n",
       "    <tr>\n",
       "      <th>0</th>\n",
       "      <td>1393</td>\n",
       "      <td>DAMANGANGA AT D/S OF MADHUBAN, DAMAN</td>\n",
       "      <td>DAMAN &amp; DIU</td>\n",
       "      <td>30.6</td>\n",
       "      <td>6.7</td>\n",
       "      <td>7.5</td>\n",
       "      <td>203</td>\n",
       "      <td>NAN</td>\n",
       "      <td>0.1</td>\n",
       "      <td>11</td>\n",
       "      <td>27</td>\n",
       "      <td>2014</td>\n",
       "    </tr>\n",
       "    <tr>\n",
       "      <th>1</th>\n",
       "      <td>1399</td>\n",
       "      <td>ZUARI AT D/S OF PT. WHERE KUMBARJRIA CANAL JOI...</td>\n",
       "      <td>GOA</td>\n",
       "      <td>29.8</td>\n",
       "      <td>5.7</td>\n",
       "      <td>7.2</td>\n",
       "      <td>189</td>\n",
       "      <td>2</td>\n",
       "      <td>0.2</td>\n",
       "      <td>4953</td>\n",
       "      <td>8391</td>\n",
       "      <td>2014</td>\n",
       "    </tr>\n",
       "    <tr>\n",
       "      <th>2</th>\n",
       "      <td>1475</td>\n",
       "      <td>ZUARI AT PANCHAWADI</td>\n",
       "      <td>GOA</td>\n",
       "      <td>29.5</td>\n",
       "      <td>6.3</td>\n",
       "      <td>6.9</td>\n",
       "      <td>179</td>\n",
       "      <td>1.7</td>\n",
       "      <td>0.1</td>\n",
       "      <td>3243</td>\n",
       "      <td>5330</td>\n",
       "      <td>2014</td>\n",
       "    </tr>\n",
       "    <tr>\n",
       "      <th>3</th>\n",
       "      <td>3181</td>\n",
       "      <td>RIVER ZUARI AT BORIM BRIDGE</td>\n",
       "      <td>GOA</td>\n",
       "      <td>29.7</td>\n",
       "      <td>5.8</td>\n",
       "      <td>6.9</td>\n",
       "      <td>64</td>\n",
       "      <td>3.8</td>\n",
       "      <td>0.5</td>\n",
       "      <td>5382</td>\n",
       "      <td>8443</td>\n",
       "      <td>2014</td>\n",
       "    </tr>\n",
       "    <tr>\n",
       "      <th>4</th>\n",
       "      <td>3182</td>\n",
       "      <td>RIVER ZUARI AT MARCAIM JETTY</td>\n",
       "      <td>GOA</td>\n",
       "      <td>29.5</td>\n",
       "      <td>5.8</td>\n",
       "      <td>7.3</td>\n",
       "      <td>83</td>\n",
       "      <td>1.9</td>\n",
       "      <td>0.4</td>\n",
       "      <td>3428</td>\n",
       "      <td>5500</td>\n",
       "      <td>2014</td>\n",
       "    </tr>\n",
       "  </tbody>\n",
       "</table>\n",
       "</div>"
      ],
      "text/plain": [
       "  STATION CODE                                          LOCATIONS  \\\n",
       "0         1393               DAMANGANGA AT D/S OF MADHUBAN, DAMAN   \n",
       "1         1399  ZUARI AT D/S OF PT. WHERE KUMBARJRIA CANAL JOI...   \n",
       "2         1475                                ZUARI AT PANCHAWADI   \n",
       "3         3181                        RIVER ZUARI AT BORIM BRIDGE   \n",
       "4         3182                       RIVER ZUARI AT MARCAIM JETTY   \n",
       "\n",
       "         STATE  Temp D.O. (mg/l)   PH CONDUCTIVITY (µmhos/cm) B.O.D. (mg/l)  \\\n",
       "0  DAMAN & DIU  30.6         6.7  7.5                     203           NAN   \n",
       "1          GOA  29.8         5.7  7.2                     189             2   \n",
       "2          GOA  29.5         6.3  6.9                     179           1.7   \n",
       "3          GOA  29.7         5.8  6.9                      64           3.8   \n",
       "4          GOA  29.5         5.8  7.3                      83           1.9   \n",
       "\n",
       "  NITRATENAN N+ NITRITENANN (mg/l) FECAL COLIFORM (MPN/100ml)  \\\n",
       "0                              0.1                         11   \n",
       "1                              0.2                       4953   \n",
       "2                              0.1                       3243   \n",
       "3                              0.5                       5382   \n",
       "4                              0.4                       3428   \n",
       "\n",
       "  TOTAL COLIFORM (MPN/100ml)Mean  year  \n",
       "0                             27  2014  \n",
       "1                           8391  2014  \n",
       "2                           5330  2014  \n",
       "3                           8443  2014  \n",
       "4                           5500  2014  "
      ]
     },
     "execution_count": 3,
     "metadata": {},
     "output_type": "execute_result"
    }
   ],
   "source": [
    "data.head()"
   ]
  },
  {
   "cell_type": "markdown",
   "id": "2eb5fbcd",
   "metadata": {},
   "source": [
    "\n",
    "# Analysing the data:"
   ]
  },
  {
   "cell_type": "code",
   "execution_count": 4,
   "id": "72f05b22",
   "metadata": {},
   "outputs": [
    {
     "data": {
      "text/html": [
       "<div>\n",
       "<style scoped>\n",
       "    .dataframe tbody tr th:only-of-type {\n",
       "        vertical-align: middle;\n",
       "    }\n",
       "\n",
       "    .dataframe tbody tr th {\n",
       "        vertical-align: top;\n",
       "    }\n",
       "\n",
       "    .dataframe thead th {\n",
       "        text-align: right;\n",
       "    }\n",
       "</style>\n",
       "<table border=\"1\" class=\"dataframe\">\n",
       "  <thead>\n",
       "    <tr style=\"text-align: right;\">\n",
       "      <th></th>\n",
       "      <th>year</th>\n",
       "    </tr>\n",
       "  </thead>\n",
       "  <tbody>\n",
       "    <tr>\n",
       "      <th>count</th>\n",
       "      <td>1991.000000</td>\n",
       "    </tr>\n",
       "    <tr>\n",
       "      <th>mean</th>\n",
       "      <td>2010.038172</td>\n",
       "    </tr>\n",
       "    <tr>\n",
       "      <th>std</th>\n",
       "      <td>3.057333</td>\n",
       "    </tr>\n",
       "    <tr>\n",
       "      <th>min</th>\n",
       "      <td>2003.000000</td>\n",
       "    </tr>\n",
       "    <tr>\n",
       "      <th>25%</th>\n",
       "      <td>2008.000000</td>\n",
       "    </tr>\n",
       "    <tr>\n",
       "      <th>50%</th>\n",
       "      <td>2011.000000</td>\n",
       "    </tr>\n",
       "    <tr>\n",
       "      <th>75%</th>\n",
       "      <td>2013.000000</td>\n",
       "    </tr>\n",
       "    <tr>\n",
       "      <th>max</th>\n",
       "      <td>2014.000000</td>\n",
       "    </tr>\n",
       "  </tbody>\n",
       "</table>\n",
       "</div>"
      ],
      "text/plain": [
       "              year\n",
       "count  1991.000000\n",
       "mean   2010.038172\n",
       "std       3.057333\n",
       "min    2003.000000\n",
       "25%    2008.000000\n",
       "50%    2011.000000\n",
       "75%    2013.000000\n",
       "max    2014.000000"
      ]
     },
     "execution_count": 4,
     "metadata": {},
     "output_type": "execute_result"
    }
   ],
   "source": [
    "data.describe()"
   ]
  },
  {
   "cell_type": "code",
   "execution_count": 5,
   "id": "d0f59b1f",
   "metadata": {},
   "outputs": [
    {
     "name": "stdout",
     "output_type": "stream",
     "text": [
      "<class 'pandas.core.frame.DataFrame'>\n",
      "RangeIndex: 1991 entries, 0 to 1990\n",
      "Data columns (total 12 columns):\n",
      " #   Column                            Non-Null Count  Dtype \n",
      "---  ------                            --------------  ----- \n",
      " 0   STATION CODE                      1991 non-null   object\n",
      " 1   LOCATIONS                         1991 non-null   object\n",
      " 2   STATE                             1991 non-null   object\n",
      " 3   Temp                              1991 non-null   object\n",
      " 4   D.O. (mg/l)                       1991 non-null   object\n",
      " 5   PH                                1991 non-null   object\n",
      " 6   CONDUCTIVITY (µmhos/cm)           1991 non-null   object\n",
      " 7   B.O.D. (mg/l)                     1991 non-null   object\n",
      " 8   NITRATENAN N+ NITRITENANN (mg/l)  1991 non-null   object\n",
      " 9   FECAL COLIFORM (MPN/100ml)        1991 non-null   object\n",
      " 10  TOTAL COLIFORM (MPN/100ml)Mean    1991 non-null   object\n",
      " 11  year                              1991 non-null   int64 \n",
      "dtypes: int64(1), object(11)\n",
      "memory usage: 186.8+ KB\n"
     ]
    }
   ],
   "source": [
    "data.info()"
   ]
  },
  {
   "cell_type": "code",
   "execution_count": 6,
   "id": "627866db",
   "metadata": {},
   "outputs": [
    {
     "data": {
      "text/plain": [
       "(1991, 12)"
      ]
     },
     "execution_count": 6,
     "metadata": {},
     "output_type": "execute_result"
    }
   ],
   "source": [
    "data.shape"
   ]
  },
  {
   "cell_type": "markdown",
   "id": "819ecfe3",
   "metadata": {},
   "source": [
    "# Handling Missing Values: "
   ]
  },
  {
   "cell_type": "code",
   "execution_count": 7,
   "id": "2effae9a",
   "metadata": {},
   "outputs": [
    {
     "data": {
      "text/plain": [
       "STATION CODE                        False\n",
       "LOCATIONS                           False\n",
       "STATE                               False\n",
       "Temp                                False\n",
       "D.O. (mg/l)                         False\n",
       "PH                                  False\n",
       "CONDUCTIVITY (µmhos/cm)             False\n",
       "B.O.D. (mg/l)                       False\n",
       "NITRATENAN N+ NITRITENANN (mg/l)    False\n",
       "FECAL COLIFORM (MPN/100ml)          False\n",
       "TOTAL COLIFORM (MPN/100ml)Mean      False\n",
       "year                                False\n",
       "dtype: bool"
      ]
     },
     "execution_count": 7,
     "metadata": {},
     "output_type": "execute_result"
    }
   ],
   "source": [
    "data.isnull().any()"
   ]
  },
  {
   "cell_type": "code",
   "execution_count": 8,
   "id": "de9230ae",
   "metadata": {},
   "outputs": [
    {
     "data": {
      "text/plain": [
       "STATION CODE                        0\n",
       "LOCATIONS                           0\n",
       "STATE                               0\n",
       "Temp                                0\n",
       "D.O. (mg/l)                         0\n",
       "PH                                  0\n",
       "CONDUCTIVITY (µmhos/cm)             0\n",
       "B.O.D. (mg/l)                       0\n",
       "NITRATENAN N+ NITRITENANN (mg/l)    0\n",
       "FECAL COLIFORM (MPN/100ml)          0\n",
       "TOTAL COLIFORM (MPN/100ml)Mean      0\n",
       "year                                0\n",
       "dtype: int64"
      ]
     },
     "execution_count": 8,
     "metadata": {},
     "output_type": "execute_result"
    }
   ],
   "source": [
    "data.isnull().sum()"
   ]
  },
  {
   "cell_type": "code",
   "execution_count": 9,
   "id": "551464e8",
   "metadata": {},
   "outputs": [
    {
     "data": {
      "text/plain": [
       "STATION CODE                        object\n",
       "LOCATIONS                           object\n",
       "STATE                               object\n",
       "Temp                                object\n",
       "D.O. (mg/l)                         object\n",
       "PH                                  object\n",
       "CONDUCTIVITY (µmhos/cm)             object\n",
       "B.O.D. (mg/l)                       object\n",
       "NITRATENAN N+ NITRITENANN (mg/l)    object\n",
       "FECAL COLIFORM (MPN/100ml)          object\n",
       "TOTAL COLIFORM (MPN/100ml)Mean      object\n",
       "year                                 int64\n",
       "dtype: object"
      ]
     },
     "execution_count": 9,
     "metadata": {},
     "output_type": "execute_result"
    }
   ],
   "source": [
    "data.dtypes"
   ]
  },
  {
   "cell_type": "code",
   "execution_count": 10,
   "id": "8d82315f",
   "metadata": {},
   "outputs": [
    {
     "data": {
      "text/plain": [
       "STATION CODE                         object\n",
       "LOCATIONS                            object\n",
       "STATE                                object\n",
       "Temp                                float64\n",
       "D.O. (mg/l)                         float64\n",
       "PH                                  float64\n",
       "CONDUCTIVITY (µmhos/cm)             float64\n",
       "B.O.D. (mg/l)                       float64\n",
       "NITRATENAN N+ NITRITENANN (mg/l)    float64\n",
       "FECAL COLIFORM (MPN/100ml)           object\n",
       "TOTAL COLIFORM (MPN/100ml)Mean      float64\n",
       "year                                  int64\n",
       "dtype: object"
      ]
     },
     "execution_count": 10,
     "metadata": {},
     "output_type": "execute_result"
    }
   ],
   "source": [
    "data['Temp']=pd.to_numeric(data['Temp'],errors='coerce')\n",
    "data['D.O. (mg/l)']=pd.to_numeric(data['D.O. (mg/l)'],errors='coerce')\n",
    "data['PH']=pd.to_numeric(data['PH'],errors='coerce')\n",
    "data['CONDUCTIVITY (µmhos/cm)']=pd.to_numeric(data['CONDUCTIVITY (µmhos/cm)'],errors='coerce')\n",
    "data['B.O.D. (mg/l)']=pd.to_numeric(data['B.O.D. (mg/l)'],errors='coerce')\n",
    "data['NITRATENAN N+ NITRITENANN (mg/l)']=pd.to_numeric(data['NITRATENAN N+ NITRITENANN (mg/l)'],errors='coerce')\n",
    "data['TOTAL COLIFORM (MPN/100ml)Mean']=pd.to_numeric(data['TOTAL COLIFORM (MPN/100ml)Mean'],errors='coerce')\n",
    "data.dtypes"
   ]
  },
  {
   "cell_type": "code",
   "execution_count": 11,
   "id": "e34a98a3",
   "metadata": {},
   "outputs": [
    {
     "data": {
      "text/plain": [
       "STATION CODE                          0\n",
       "LOCATIONS                             0\n",
       "STATE                                 0\n",
       "Temp                                 92\n",
       "D.O. (mg/l)                          31\n",
       "PH                                    8\n",
       "CONDUCTIVITY (µmhos/cm)              25\n",
       "B.O.D. (mg/l)                        43\n",
       "NITRATENAN N+ NITRITENANN (mg/l)    225\n",
       "FECAL COLIFORM (MPN/100ml)            0\n",
       "TOTAL COLIFORM (MPN/100ml)Mean      132\n",
       "year                                  0\n",
       "dtype: int64"
      ]
     },
     "execution_count": 11,
     "metadata": {},
     "output_type": "execute_result"
    }
   ],
   "source": [
    "data.isnull().sum()"
   ]
  },
  {
   "cell_type": "code",
   "execution_count": 12,
   "id": "e70c7ccf",
   "metadata": {},
   "outputs": [],
   "source": [
    "data['Temp'].fillna(data['Temp'].mean(),inplace=True)\n",
    "data['D.O. (mg/l)'].fillna(data['D.O. (mg/l)'].mean(),inplace=True)\n",
    "data['PH'].fillna(data['PH'].mean(),inplace=True)\n",
    "data['CONDUCTIVITY (µmhos/cm)'].fillna(data['CONDUCTIVITY (µmhos/cm)'].mean(),inplace=True)\n",
    "data['B.O.D. (mg/l)'].fillna(data['B.O.D. (mg/l)'].mean(),inplace=True)\n",
    "data['NITRATENAN N+ NITRITENANN (mg/l)'].fillna(data['NITRATENAN N+ NITRITENANN (mg/l)'].mean(),inplace=True)\n",
    "data['TOTAL COLIFORM (MPN/100ml)Mean'].fillna(data['TOTAL COLIFORM (MPN/100ml)Mean'].mean(),inplace=True)"
   ]
  },
  {
   "cell_type": "code",
   "execution_count": 13,
   "id": "c5317226",
   "metadata": {},
   "outputs": [
    {
     "data": {
      "text/plain": [
       "STATION CODE                        False\n",
       "LOCATIONS                           False\n",
       "STATE                               False\n",
       "Temp                                False\n",
       "D.O. (mg/l)                         False\n",
       "PH                                  False\n",
       "CONDUCTIVITY (µmhos/cm)             False\n",
       "B.O.D. (mg/l)                       False\n",
       "NITRATENAN N+ NITRITENANN (mg/l)    False\n",
       "FECAL COLIFORM (MPN/100ml)          False\n",
       "TOTAL COLIFORM (MPN/100ml)Mean      False\n",
       "year                                False\n",
       "dtype: bool"
      ]
     },
     "execution_count": 13,
     "metadata": {},
     "output_type": "execute_result"
    }
   ],
   "source": [
    "data.isnull().any()"
   ]
  },
  {
   "cell_type": "code",
   "execution_count": 14,
   "id": "ec378841",
   "metadata": {},
   "outputs": [],
   "source": [
    "data.drop(\"FECAL COLIFORM (MPN/100ml)\",axis=1,inplace=True)"
   ]
  },
  {
   "cell_type": "code",
   "execution_count": 15,
   "id": "f5899e60",
   "metadata": {},
   "outputs": [
    {
     "data": {
      "text/html": [
       "<div>\n",
       "<style scoped>\n",
       "    .dataframe tbody tr th:only-of-type {\n",
       "        vertical-align: middle;\n",
       "    }\n",
       "\n",
       "    .dataframe tbody tr th {\n",
       "        vertical-align: top;\n",
       "    }\n",
       "\n",
       "    .dataframe thead th {\n",
       "        text-align: right;\n",
       "    }\n",
       "</style>\n",
       "<table border=\"1\" class=\"dataframe\">\n",
       "  <thead>\n",
       "    <tr style=\"text-align: right;\">\n",
       "      <th></th>\n",
       "      <th>STATION CODE</th>\n",
       "      <th>LOCATIONS</th>\n",
       "      <th>STATE</th>\n",
       "      <th>Temp</th>\n",
       "      <th>D.O. (mg/l)</th>\n",
       "      <th>PH</th>\n",
       "      <th>CONDUCTIVITY (µmhos/cm)</th>\n",
       "      <th>B.O.D. (mg/l)</th>\n",
       "      <th>NITRATENAN N+ NITRITENANN (mg/l)</th>\n",
       "      <th>TOTAL COLIFORM (MPN/100ml)Mean</th>\n",
       "      <th>year</th>\n",
       "    </tr>\n",
       "  </thead>\n",
       "  <tbody>\n",
       "    <tr>\n",
       "      <th>0</th>\n",
       "      <td>1393</td>\n",
       "      <td>DAMANGANGA AT D/S OF MADHUBAN, DAMAN</td>\n",
       "      <td>DAMAN &amp; DIU</td>\n",
       "      <td>30.6</td>\n",
       "      <td>6.7</td>\n",
       "      <td>7.5</td>\n",
       "      <td>203.0</td>\n",
       "      <td>6.940049</td>\n",
       "      <td>0.1</td>\n",
       "      <td>27.0</td>\n",
       "      <td>2014</td>\n",
       "    </tr>\n",
       "    <tr>\n",
       "      <th>1</th>\n",
       "      <td>1399</td>\n",
       "      <td>ZUARI AT D/S OF PT. WHERE KUMBARJRIA CANAL JOI...</td>\n",
       "      <td>GOA</td>\n",
       "      <td>29.8</td>\n",
       "      <td>5.7</td>\n",
       "      <td>7.2</td>\n",
       "      <td>189.0</td>\n",
       "      <td>2.000000</td>\n",
       "      <td>0.2</td>\n",
       "      <td>8391.0</td>\n",
       "      <td>2014</td>\n",
       "    </tr>\n",
       "    <tr>\n",
       "      <th>2</th>\n",
       "      <td>1475</td>\n",
       "      <td>ZUARI AT PANCHAWADI</td>\n",
       "      <td>GOA</td>\n",
       "      <td>29.5</td>\n",
       "      <td>6.3</td>\n",
       "      <td>6.9</td>\n",
       "      <td>179.0</td>\n",
       "      <td>1.700000</td>\n",
       "      <td>0.1</td>\n",
       "      <td>5330.0</td>\n",
       "      <td>2014</td>\n",
       "    </tr>\n",
       "    <tr>\n",
       "      <th>3</th>\n",
       "      <td>3181</td>\n",
       "      <td>RIVER ZUARI AT BORIM BRIDGE</td>\n",
       "      <td>GOA</td>\n",
       "      <td>29.7</td>\n",
       "      <td>5.8</td>\n",
       "      <td>6.9</td>\n",
       "      <td>64.0</td>\n",
       "      <td>3.800000</td>\n",
       "      <td>0.5</td>\n",
       "      <td>8443.0</td>\n",
       "      <td>2014</td>\n",
       "    </tr>\n",
       "    <tr>\n",
       "      <th>4</th>\n",
       "      <td>3182</td>\n",
       "      <td>RIVER ZUARI AT MARCAIM JETTY</td>\n",
       "      <td>GOA</td>\n",
       "      <td>29.5</td>\n",
       "      <td>5.8</td>\n",
       "      <td>7.3</td>\n",
       "      <td>83.0</td>\n",
       "      <td>1.900000</td>\n",
       "      <td>0.4</td>\n",
       "      <td>5500.0</td>\n",
       "      <td>2014</td>\n",
       "    </tr>\n",
       "  </tbody>\n",
       "</table>\n",
       "</div>"
      ],
      "text/plain": [
       "  STATION CODE                                          LOCATIONS  \\\n",
       "0         1393               DAMANGANGA AT D/S OF MADHUBAN, DAMAN   \n",
       "1         1399  ZUARI AT D/S OF PT. WHERE KUMBARJRIA CANAL JOI...   \n",
       "2         1475                                ZUARI AT PANCHAWADI   \n",
       "3         3181                        RIVER ZUARI AT BORIM BRIDGE   \n",
       "4         3182                       RIVER ZUARI AT MARCAIM JETTY   \n",
       "\n",
       "         STATE  Temp  D.O. (mg/l)   PH  CONDUCTIVITY (µmhos/cm)  \\\n",
       "0  DAMAN & DIU  30.6          6.7  7.5                    203.0   \n",
       "1          GOA  29.8          5.7  7.2                    189.0   \n",
       "2          GOA  29.5          6.3  6.9                    179.0   \n",
       "3          GOA  29.7          5.8  6.9                     64.0   \n",
       "4          GOA  29.5          5.8  7.3                     83.0   \n",
       "\n",
       "   B.O.D. (mg/l)  NITRATENAN N+ NITRITENANN (mg/l)  \\\n",
       "0       6.940049                               0.1   \n",
       "1       2.000000                               0.2   \n",
       "2       1.700000                               0.1   \n",
       "3       3.800000                               0.5   \n",
       "4       1.900000                               0.4   \n",
       "\n",
       "   TOTAL COLIFORM (MPN/100ml)Mean  year  \n",
       "0                            27.0  2014  \n",
       "1                          8391.0  2014  \n",
       "2                          5330.0  2014  \n",
       "3                          8443.0  2014  \n",
       "4                          5500.0  2014  "
      ]
     },
     "execution_count": 15,
     "metadata": {},
     "output_type": "execute_result"
    }
   ],
   "source": [
    "data.head()"
   ]
  },
  {
   "cell_type": "code",
   "execution_count": 16,
   "id": "a21e0661",
   "metadata": {},
   "outputs": [],
   "source": [
    "data=data.rename(columns={'D.O. (mg/l)':'do'})\n",
    "data=data.rename(columns={'CONDUCTIVITY (µmhos/cm)':'co'})\n",
    "data=data.rename(columns={'B.O.D. (mg/l)':'bod'})\n",
    "data=data.rename(columns={'NITRATENAN N+ NITRITENANN (mg/l)':'na'})\n",
    "data=data.rename(columns={'TOTAL COLIFORM (MPN/100ml)Mean':'tc'})\n",
    "data=data.rename(columns={'STATION CODE':'station'})\n",
    "data=data.rename(columns={'LOCATIONS':'location'})\n",
    "data=data.rename(columns={'STATE':'state'})\n",
    "data=data.rename(columns={'PH':'ph'})"
   ]
  },
  {
   "cell_type": "code",
   "execution_count": 17,
   "id": "98836f2e",
   "metadata": {},
   "outputs": [
    {
     "data": {
      "text/html": [
       "<div>\n",
       "<style scoped>\n",
       "    .dataframe tbody tr th:only-of-type {\n",
       "        vertical-align: middle;\n",
       "    }\n",
       "\n",
       "    .dataframe tbody tr th {\n",
       "        vertical-align: top;\n",
       "    }\n",
       "\n",
       "    .dataframe thead th {\n",
       "        text-align: right;\n",
       "    }\n",
       "</style>\n",
       "<table border=\"1\" class=\"dataframe\">\n",
       "  <thead>\n",
       "    <tr style=\"text-align: right;\">\n",
       "      <th></th>\n",
       "      <th>station</th>\n",
       "      <th>location</th>\n",
       "      <th>state</th>\n",
       "      <th>Temp</th>\n",
       "      <th>do</th>\n",
       "      <th>ph</th>\n",
       "      <th>co</th>\n",
       "      <th>bod</th>\n",
       "      <th>na</th>\n",
       "      <th>tc</th>\n",
       "      <th>year</th>\n",
       "    </tr>\n",
       "  </thead>\n",
       "  <tbody>\n",
       "    <tr>\n",
       "      <th>0</th>\n",
       "      <td>1393</td>\n",
       "      <td>DAMANGANGA AT D/S OF MADHUBAN, DAMAN</td>\n",
       "      <td>DAMAN &amp; DIU</td>\n",
       "      <td>30.6</td>\n",
       "      <td>6.7</td>\n",
       "      <td>7.5</td>\n",
       "      <td>203.0</td>\n",
       "      <td>6.940049</td>\n",
       "      <td>0.1</td>\n",
       "      <td>27.0</td>\n",
       "      <td>2014</td>\n",
       "    </tr>\n",
       "    <tr>\n",
       "      <th>1</th>\n",
       "      <td>1399</td>\n",
       "      <td>ZUARI AT D/S OF PT. WHERE KUMBARJRIA CANAL JOI...</td>\n",
       "      <td>GOA</td>\n",
       "      <td>29.8</td>\n",
       "      <td>5.7</td>\n",
       "      <td>7.2</td>\n",
       "      <td>189.0</td>\n",
       "      <td>2.000000</td>\n",
       "      <td>0.2</td>\n",
       "      <td>8391.0</td>\n",
       "      <td>2014</td>\n",
       "    </tr>\n",
       "    <tr>\n",
       "      <th>2</th>\n",
       "      <td>1475</td>\n",
       "      <td>ZUARI AT PANCHAWADI</td>\n",
       "      <td>GOA</td>\n",
       "      <td>29.5</td>\n",
       "      <td>6.3</td>\n",
       "      <td>6.9</td>\n",
       "      <td>179.0</td>\n",
       "      <td>1.700000</td>\n",
       "      <td>0.1</td>\n",
       "      <td>5330.0</td>\n",
       "      <td>2014</td>\n",
       "    </tr>\n",
       "    <tr>\n",
       "      <th>3</th>\n",
       "      <td>3181</td>\n",
       "      <td>RIVER ZUARI AT BORIM BRIDGE</td>\n",
       "      <td>GOA</td>\n",
       "      <td>29.7</td>\n",
       "      <td>5.8</td>\n",
       "      <td>6.9</td>\n",
       "      <td>64.0</td>\n",
       "      <td>3.800000</td>\n",
       "      <td>0.5</td>\n",
       "      <td>8443.0</td>\n",
       "      <td>2014</td>\n",
       "    </tr>\n",
       "    <tr>\n",
       "      <th>4</th>\n",
       "      <td>3182</td>\n",
       "      <td>RIVER ZUARI AT MARCAIM JETTY</td>\n",
       "      <td>GOA</td>\n",
       "      <td>29.5</td>\n",
       "      <td>5.8</td>\n",
       "      <td>7.3</td>\n",
       "      <td>83.0</td>\n",
       "      <td>1.900000</td>\n",
       "      <td>0.4</td>\n",
       "      <td>5500.0</td>\n",
       "      <td>2014</td>\n",
       "    </tr>\n",
       "  </tbody>\n",
       "</table>\n",
       "</div>"
      ],
      "text/plain": [
       "  station                                           location        state  \\\n",
       "0    1393               DAMANGANGA AT D/S OF MADHUBAN, DAMAN  DAMAN & DIU   \n",
       "1    1399  ZUARI AT D/S OF PT. WHERE KUMBARJRIA CANAL JOI...          GOA   \n",
       "2    1475                                ZUARI AT PANCHAWADI          GOA   \n",
       "3    3181                        RIVER ZUARI AT BORIM BRIDGE          GOA   \n",
       "4    3182                       RIVER ZUARI AT MARCAIM JETTY          GOA   \n",
       "\n",
       "   Temp   do   ph     co       bod   na      tc  year  \n",
       "0  30.6  6.7  7.5  203.0  6.940049  0.1    27.0  2014  \n",
       "1  29.8  5.7  7.2  189.0  2.000000  0.2  8391.0  2014  \n",
       "2  29.5  6.3  6.9  179.0  1.700000  0.1  5330.0  2014  \n",
       "3  29.7  5.8  6.9   64.0  3.800000  0.5  8443.0  2014  \n",
       "4  29.5  5.8  7.3   83.0  1.900000  0.4  5500.0  2014  "
      ]
     },
     "execution_count": 17,
     "metadata": {},
     "output_type": "execute_result"
    }
   ],
   "source": [
    "data.head()"
   ]
  },
  {
   "cell_type": "markdown",
   "id": "1518482d",
   "metadata": {},
   "source": [
    "# Water Quality Index Calculation: "
   ]
  },
  {
   "cell_type": "code",
   "execution_count": 18,
   "id": "aa15edd5",
   "metadata": {},
   "outputs": [],
   "source": [
    "data['npH']=data.ph.apply(lambda x:(100 if(8.5>=x>=7)\n",
    "                                  else(80 if(8.6>=x>=8.5) or (6.9>=x>=6.8)\n",
    "                                      else(60 if(8.8>=x>=8.6) or (6.8>=x>=6.7)\n",
    "                                          else(40 if(9>=x>=8.8) or (6.7>=x>=6.5)\n",
    "                                              else 0)))))"
   ]
  },
  {
   "cell_type": "code",
   "execution_count": 19,
   "id": "e6e99f15",
   "metadata": {},
   "outputs": [],
   "source": [
    "data['ndo']=data.do.apply(lambda x:(100 if(x>=6)\n",
    "                                  else(80 if(6>=x>=5.1)\n",
    "                                      else(60 if(5>=x>=4.1)\n",
    "                                          else(40 if(4>=x>=3)\n",
    "                                              else 0)))))"
   ]
  },
  {
   "cell_type": "code",
   "execution_count": 20,
   "id": "628d271b",
   "metadata": {},
   "outputs": [],
   "source": [
    "data['nco']=data.tc.apply(lambda x:(100 if(5>=x>=0)\n",
    "                                  else(80 if(50>=x>=5)\n",
    "                                      else(60 if(500>=x>=50)\n",
    "                                          else(40 if(10000>=x>=500)\n",
    "                                              else 0)))))"
   ]
  },
  {
   "cell_type": "code",
   "execution_count": 21,
   "id": "c09e5fa5",
   "metadata": {},
   "outputs": [],
   "source": [
    "data['nbdo']=data.bod.apply(lambda x:(100 if(3>=x>=0)\n",
    "                                  else(80 if(6>=x>=3)\n",
    "                                      else(60 if(80>=x>=6)\n",
    "                                          else(40 if(125>=x>=80)\n",
    "                                              else 0)))))"
   ]
  },
  {
   "cell_type": "code",
   "execution_count": 22,
   "id": "97ea4155",
   "metadata": {},
   "outputs": [],
   "source": [
    "data['nec']=data.co.apply(lambda x:(100 if(75>=x>=0)\n",
    "                                  else(80 if(150>=x>=75)\n",
    "                                      else(60 if(225>=x>=150)\n",
    "                                          else(40 if(300>=x>=225)\n",
    "                                              else 0)))))"
   ]
  },
  {
   "cell_type": "code",
   "execution_count": 23,
   "id": "79ddfa18",
   "metadata": {},
   "outputs": [],
   "source": [
    "data['nna']=data.na.apply(lambda x:(100 if(20>=x>=0)\n",
    "                                  else(80 if(50>=x>=20)\n",
    "                                      else(60 if(100>=x>=50)\n",
    "                                          else(40 if(200>=x>=100)\n",
    "                                              else 0)))))"
   ]
  },
  {
   "cell_type": "code",
   "execution_count": 24,
   "id": "b8635e31",
   "metadata": {},
   "outputs": [
    {
     "data": {
      "text/html": [
       "<div>\n",
       "<style scoped>\n",
       "    .dataframe tbody tr th:only-of-type {\n",
       "        vertical-align: middle;\n",
       "    }\n",
       "\n",
       "    .dataframe tbody tr th {\n",
       "        vertical-align: top;\n",
       "    }\n",
       "\n",
       "    .dataframe thead th {\n",
       "        text-align: right;\n",
       "    }\n",
       "</style>\n",
       "<table border=\"1\" class=\"dataframe\">\n",
       "  <thead>\n",
       "    <tr style=\"text-align: right;\">\n",
       "      <th></th>\n",
       "      <th>station</th>\n",
       "      <th>location</th>\n",
       "      <th>state</th>\n",
       "      <th>Temp</th>\n",
       "      <th>do</th>\n",
       "      <th>ph</th>\n",
       "      <th>co</th>\n",
       "      <th>bod</th>\n",
       "      <th>na</th>\n",
       "      <th>tc</th>\n",
       "      <th>...</th>\n",
       "      <th>nbdo</th>\n",
       "      <th>nec</th>\n",
       "      <th>nna</th>\n",
       "      <th>wph</th>\n",
       "      <th>wdo</th>\n",
       "      <th>wbdo</th>\n",
       "      <th>wec</th>\n",
       "      <th>wna</th>\n",
       "      <th>wco</th>\n",
       "      <th>wqi</th>\n",
       "    </tr>\n",
       "  </thead>\n",
       "  <tbody>\n",
       "    <tr>\n",
       "      <th>0</th>\n",
       "      <td>1393</td>\n",
       "      <td>DAMANGANGA AT D/S OF MADHUBAN, DAMAN</td>\n",
       "      <td>DAMAN &amp; DIU</td>\n",
       "      <td>30.600000</td>\n",
       "      <td>6.7</td>\n",
       "      <td>7.5</td>\n",
       "      <td>203.0</td>\n",
       "      <td>6.940049</td>\n",
       "      <td>0.100000</td>\n",
       "      <td>27.0</td>\n",
       "      <td>...</td>\n",
       "      <td>60</td>\n",
       "      <td>60</td>\n",
       "      <td>100</td>\n",
       "      <td>16.5</td>\n",
       "      <td>28.10</td>\n",
       "      <td>14.04</td>\n",
       "      <td>0.54</td>\n",
       "      <td>2.8</td>\n",
       "      <td>22.48</td>\n",
       "      <td>84.46</td>\n",
       "    </tr>\n",
       "    <tr>\n",
       "      <th>1</th>\n",
       "      <td>1399</td>\n",
       "      <td>ZUARI AT D/S OF PT. WHERE KUMBARJRIA CANAL JOI...</td>\n",
       "      <td>GOA</td>\n",
       "      <td>29.800000</td>\n",
       "      <td>5.7</td>\n",
       "      <td>7.2</td>\n",
       "      <td>189.0</td>\n",
       "      <td>2.000000</td>\n",
       "      <td>0.200000</td>\n",
       "      <td>8391.0</td>\n",
       "      <td>...</td>\n",
       "      <td>100</td>\n",
       "      <td>60</td>\n",
       "      <td>100</td>\n",
       "      <td>16.5</td>\n",
       "      <td>22.48</td>\n",
       "      <td>23.40</td>\n",
       "      <td>0.54</td>\n",
       "      <td>2.8</td>\n",
       "      <td>11.24</td>\n",
       "      <td>76.96</td>\n",
       "    </tr>\n",
       "    <tr>\n",
       "      <th>2</th>\n",
       "      <td>1475</td>\n",
       "      <td>ZUARI AT PANCHAWADI</td>\n",
       "      <td>GOA</td>\n",
       "      <td>29.500000</td>\n",
       "      <td>6.3</td>\n",
       "      <td>6.9</td>\n",
       "      <td>179.0</td>\n",
       "      <td>1.700000</td>\n",
       "      <td>0.100000</td>\n",
       "      <td>5330.0</td>\n",
       "      <td>...</td>\n",
       "      <td>100</td>\n",
       "      <td>60</td>\n",
       "      <td>100</td>\n",
       "      <td>13.2</td>\n",
       "      <td>28.10</td>\n",
       "      <td>23.40</td>\n",
       "      <td>0.54</td>\n",
       "      <td>2.8</td>\n",
       "      <td>11.24</td>\n",
       "      <td>79.28</td>\n",
       "    </tr>\n",
       "    <tr>\n",
       "      <th>3</th>\n",
       "      <td>3181</td>\n",
       "      <td>RIVER ZUARI AT BORIM BRIDGE</td>\n",
       "      <td>GOA</td>\n",
       "      <td>29.700000</td>\n",
       "      <td>5.8</td>\n",
       "      <td>6.9</td>\n",
       "      <td>64.0</td>\n",
       "      <td>3.800000</td>\n",
       "      <td>0.500000</td>\n",
       "      <td>8443.0</td>\n",
       "      <td>...</td>\n",
       "      <td>80</td>\n",
       "      <td>100</td>\n",
       "      <td>100</td>\n",
       "      <td>13.2</td>\n",
       "      <td>22.48</td>\n",
       "      <td>18.72</td>\n",
       "      <td>0.90</td>\n",
       "      <td>2.8</td>\n",
       "      <td>11.24</td>\n",
       "      <td>69.34</td>\n",
       "    </tr>\n",
       "    <tr>\n",
       "      <th>4</th>\n",
       "      <td>3182</td>\n",
       "      <td>RIVER ZUARI AT MARCAIM JETTY</td>\n",
       "      <td>GOA</td>\n",
       "      <td>29.500000</td>\n",
       "      <td>5.8</td>\n",
       "      <td>7.3</td>\n",
       "      <td>83.0</td>\n",
       "      <td>1.900000</td>\n",
       "      <td>0.400000</td>\n",
       "      <td>5500.0</td>\n",
       "      <td>...</td>\n",
       "      <td>100</td>\n",
       "      <td>80</td>\n",
       "      <td>100</td>\n",
       "      <td>16.5</td>\n",
       "      <td>22.48</td>\n",
       "      <td>23.40</td>\n",
       "      <td>0.72</td>\n",
       "      <td>2.8</td>\n",
       "      <td>11.24</td>\n",
       "      <td>77.14</td>\n",
       "    </tr>\n",
       "    <tr>\n",
       "      <th>...</th>\n",
       "      <td>...</td>\n",
       "      <td>...</td>\n",
       "      <td>...</td>\n",
       "      <td>...</td>\n",
       "      <td>...</td>\n",
       "      <td>...</td>\n",
       "      <td>...</td>\n",
       "      <td>...</td>\n",
       "      <td>...</td>\n",
       "      <td>...</td>\n",
       "      <td>...</td>\n",
       "      <td>...</td>\n",
       "      <td>...</td>\n",
       "      <td>...</td>\n",
       "      <td>...</td>\n",
       "      <td>...</td>\n",
       "      <td>...</td>\n",
       "      <td>...</td>\n",
       "      <td>...</td>\n",
       "      <td>...</td>\n",
       "      <td>...</td>\n",
       "    </tr>\n",
       "    <tr>\n",
       "      <th>1986</th>\n",
       "      <td>1330</td>\n",
       "      <td>TAMBIRAPARANI AT ARUMUGANERI, TAMILNADU</td>\n",
       "      <td>NAN</td>\n",
       "      <td>26.209814</td>\n",
       "      <td>7.9</td>\n",
       "      <td>738.0</td>\n",
       "      <td>7.2</td>\n",
       "      <td>2.700000</td>\n",
       "      <td>0.518000</td>\n",
       "      <td>202.0</td>\n",
       "      <td>...</td>\n",
       "      <td>100</td>\n",
       "      <td>100</td>\n",
       "      <td>100</td>\n",
       "      <td>0.0</td>\n",
       "      <td>28.10</td>\n",
       "      <td>23.40</td>\n",
       "      <td>0.90</td>\n",
       "      <td>2.8</td>\n",
       "      <td>16.86</td>\n",
       "      <td>72.06</td>\n",
       "    </tr>\n",
       "    <tr>\n",
       "      <th>1987</th>\n",
       "      <td>1450</td>\n",
       "      <td>PALAR AT VANIYAMBADI WATER SUPPLY HEAD WORK, T...</td>\n",
       "      <td>NAN</td>\n",
       "      <td>29.000000</td>\n",
       "      <td>7.5</td>\n",
       "      <td>585.0</td>\n",
       "      <td>6.3</td>\n",
       "      <td>2.600000</td>\n",
       "      <td>0.155000</td>\n",
       "      <td>315.0</td>\n",
       "      <td>...</td>\n",
       "      <td>100</td>\n",
       "      <td>100</td>\n",
       "      <td>100</td>\n",
       "      <td>0.0</td>\n",
       "      <td>28.10</td>\n",
       "      <td>23.40</td>\n",
       "      <td>0.90</td>\n",
       "      <td>2.8</td>\n",
       "      <td>16.86</td>\n",
       "      <td>72.06</td>\n",
       "    </tr>\n",
       "    <tr>\n",
       "      <th>1988</th>\n",
       "      <td>1403</td>\n",
       "      <td>GUMTI AT U/S SOUTH TRIPURA,TRIPURA</td>\n",
       "      <td>NAN</td>\n",
       "      <td>28.000000</td>\n",
       "      <td>7.6</td>\n",
       "      <td>98.0</td>\n",
       "      <td>6.2</td>\n",
       "      <td>1.200000</td>\n",
       "      <td>1.623079</td>\n",
       "      <td>570.0</td>\n",
       "      <td>...</td>\n",
       "      <td>100</td>\n",
       "      <td>100</td>\n",
       "      <td>100</td>\n",
       "      <td>0.0</td>\n",
       "      <td>28.10</td>\n",
       "      <td>23.40</td>\n",
       "      <td>0.90</td>\n",
       "      <td>2.8</td>\n",
       "      <td>11.24</td>\n",
       "      <td>66.44</td>\n",
       "    </tr>\n",
       "    <tr>\n",
       "      <th>1989</th>\n",
       "      <td>1404</td>\n",
       "      <td>GUMTI AT D/S SOUTH TRIPURA, TRIPURA</td>\n",
       "      <td>NAN</td>\n",
       "      <td>28.000000</td>\n",
       "      <td>7.7</td>\n",
       "      <td>91.0</td>\n",
       "      <td>6.5</td>\n",
       "      <td>1.300000</td>\n",
       "      <td>1.623079</td>\n",
       "      <td>562.0</td>\n",
       "      <td>...</td>\n",
       "      <td>100</td>\n",
       "      <td>100</td>\n",
       "      <td>100</td>\n",
       "      <td>0.0</td>\n",
       "      <td>28.10</td>\n",
       "      <td>23.40</td>\n",
       "      <td>0.90</td>\n",
       "      <td>2.8</td>\n",
       "      <td>11.24</td>\n",
       "      <td>66.44</td>\n",
       "    </tr>\n",
       "    <tr>\n",
       "      <th>1990</th>\n",
       "      <td>1726</td>\n",
       "      <td>CHANDRAPUR, AGARTALA D/S OF HAORA RIVER, TRIPURA</td>\n",
       "      <td>NAN</td>\n",
       "      <td>29.000000</td>\n",
       "      <td>7.6</td>\n",
       "      <td>110.0</td>\n",
       "      <td>5.7</td>\n",
       "      <td>1.100000</td>\n",
       "      <td>1.623079</td>\n",
       "      <td>546.0</td>\n",
       "      <td>...</td>\n",
       "      <td>100</td>\n",
       "      <td>100</td>\n",
       "      <td>100</td>\n",
       "      <td>0.0</td>\n",
       "      <td>28.10</td>\n",
       "      <td>23.40</td>\n",
       "      <td>0.90</td>\n",
       "      <td>2.8</td>\n",
       "      <td>11.24</td>\n",
       "      <td>66.44</td>\n",
       "    </tr>\n",
       "  </tbody>\n",
       "</table>\n",
       "<p>1991 rows × 24 columns</p>\n",
       "</div>"
      ],
      "text/plain": [
       "     station                                           location        state  \\\n",
       "0       1393               DAMANGANGA AT D/S OF MADHUBAN, DAMAN  DAMAN & DIU   \n",
       "1       1399  ZUARI AT D/S OF PT. WHERE KUMBARJRIA CANAL JOI...          GOA   \n",
       "2       1475                                ZUARI AT PANCHAWADI          GOA   \n",
       "3       3181                        RIVER ZUARI AT BORIM BRIDGE          GOA   \n",
       "4       3182                       RIVER ZUARI AT MARCAIM JETTY          GOA   \n",
       "...      ...                                                ...          ...   \n",
       "1986    1330            TAMBIRAPARANI AT ARUMUGANERI, TAMILNADU          NAN   \n",
       "1987    1450  PALAR AT VANIYAMBADI WATER SUPPLY HEAD WORK, T...          NAN   \n",
       "1988    1403                 GUMTI AT U/S SOUTH TRIPURA,TRIPURA          NAN   \n",
       "1989    1404                GUMTI AT D/S SOUTH TRIPURA, TRIPURA          NAN   \n",
       "1990    1726   CHANDRAPUR, AGARTALA D/S OF HAORA RIVER, TRIPURA          NAN   \n",
       "\n",
       "           Temp   do     ph     co       bod        na      tc  ...  nbdo  \\\n",
       "0     30.600000  6.7    7.5  203.0  6.940049  0.100000    27.0  ...    60   \n",
       "1     29.800000  5.7    7.2  189.0  2.000000  0.200000  8391.0  ...   100   \n",
       "2     29.500000  6.3    6.9  179.0  1.700000  0.100000  5330.0  ...   100   \n",
       "3     29.700000  5.8    6.9   64.0  3.800000  0.500000  8443.0  ...    80   \n",
       "4     29.500000  5.8    7.3   83.0  1.900000  0.400000  5500.0  ...   100   \n",
       "...         ...  ...    ...    ...       ...       ...     ...  ...   ...   \n",
       "1986  26.209814  7.9  738.0    7.2  2.700000  0.518000   202.0  ...   100   \n",
       "1987  29.000000  7.5  585.0    6.3  2.600000  0.155000   315.0  ...   100   \n",
       "1988  28.000000  7.6   98.0    6.2  1.200000  1.623079   570.0  ...   100   \n",
       "1989  28.000000  7.7   91.0    6.5  1.300000  1.623079   562.0  ...   100   \n",
       "1990  29.000000  7.6  110.0    5.7  1.100000  1.623079   546.0  ...   100   \n",
       "\n",
       "      nec  nna   wph    wdo   wbdo   wec  wna    wco    wqi  \n",
       "0      60  100  16.5  28.10  14.04  0.54  2.8  22.48  84.46  \n",
       "1      60  100  16.5  22.48  23.40  0.54  2.8  11.24  76.96  \n",
       "2      60  100  13.2  28.10  23.40  0.54  2.8  11.24  79.28  \n",
       "3     100  100  13.2  22.48  18.72  0.90  2.8  11.24  69.34  \n",
       "4      80  100  16.5  22.48  23.40  0.72  2.8  11.24  77.14  \n",
       "...   ...  ...   ...    ...    ...   ...  ...    ...    ...  \n",
       "1986  100  100   0.0  28.10  23.40  0.90  2.8  16.86  72.06  \n",
       "1987  100  100   0.0  28.10  23.40  0.90  2.8  16.86  72.06  \n",
       "1988  100  100   0.0  28.10  23.40  0.90  2.8  11.24  66.44  \n",
       "1989  100  100   0.0  28.10  23.40  0.90  2.8  11.24  66.44  \n",
       "1990  100  100   0.0  28.10  23.40  0.90  2.8  11.24  66.44  \n",
       "\n",
       "[1991 rows x 24 columns]"
      ]
     },
     "execution_count": 24,
     "metadata": {},
     "output_type": "execute_result"
    }
   ],
   "source": [
    "data['wph']=data.npH*0.165\n",
    "data['wdo']=data.ndo*0.281\n",
    "data['wbdo']=data.nbdo*0.234\n",
    "data['wec']=data.nec*0.009\n",
    "data['wna']=data.nna*0.028\n",
    "data['wco']=data.nco*0.281\n",
    "data['wqi']=data.wph+data.wdo+data.wbdo+data.wec+data.wna+data.wco\n",
    "data"
   ]
  },
  {
   "cell_type": "code",
   "execution_count": null,
   "id": "bc36127e",
   "metadata": {},
   "outputs": [],
   "source": []
  },
  {
   "cell_type": "markdown",
   "id": "7be498e7",
   "metadata": {},
   "source": [
    "# Data Visualization:"
   ]
  },
  {
   "cell_type": "code",
   "execution_count": 25,
   "id": "20e3f618",
   "metadata": {},
   "outputs": [
    {
     "name": "stderr",
     "output_type": "stream",
     "text": [
      "C:\\Users\\LENOVO\\anaconda3\\lib\\site-packages\\seaborn\\distributions.py:2619: FutureWarning: `distplot` is a deprecated function and will be removed in a future version. Please adapt your code to use either `displot` (a figure-level function with similar flexibility) or `histplot` (an axes-level function for histograms).\n",
      "  warnings.warn(msg, FutureWarning)\n"
     ]
    },
    {
     "data": {
      "image/png": "[encoded data removed]",
      "text/plain": [
       "<Figure size 640x480 with 1 Axes>"
      ]
     },
     "metadata": {},
     "output_type": "display_data"
    }
   ],
   "source": [
    "sns.distplot(data['do'])\n",
    "plt.show()"
   ]
  },
  {
   "cell_type": "code",
   "execution_count": 26,
   "id": "b24967d8",
   "metadata": {},
   "outputs": [
    {
     "data": {
      "image/png": "[encoded data removed]",
      "text/plain": [
       "<Figure size 1400x1400 with 25 Axes>"
      ]
     },
     "metadata": {},
     "output_type": "display_data"
    }
   ],
   "source": [
    "data.hist(figsize=(14,14))\n",
    "plt.show()"
   ]
  },
  {
   "cell_type": "code",
   "execution_count": 27,
   "id": "679e3db3",
   "metadata": {},
   "outputs": [],
   "source": [
    "average=data.groupby('year')['wqi'].mean()"
   ]
  },
  {
   "cell_type": "code",
   "execution_count": 28,
   "id": "fe5ee548",
   "metadata": {},
   "outputs": [
    {
     "data": {
      "text/plain": [
       "year\n",
       "2003    66.239545\n",
       "2004    61.290000\n",
       "2005    73.762689\n",
       "2006    72.909714\n",
       "2007    74.233000\n",
       "Name: wqi, dtype: float64"
      ]
     },
     "execution_count": 28,
     "metadata": {},
     "output_type": "execute_result"
    }
   ],
   "source": [
    "average.head()"
   ]
  },
  {
   "cell_type": "markdown",
   "id": "5f78cd5b",
   "metadata": {},
   "source": [
    "# Model Building:"
   ]
  },
  {
   "cell_type": "code",
   "execution_count": 29,
   "id": "d910a737",
   "metadata": {},
   "outputs": [
    {
     "data": {
      "text/plain": [
       "(1991, 24)"
      ]
     },
     "execution_count": 29,
     "metadata": {},
     "output_type": "execute_result"
    }
   ],
   "source": [
    "data.shape"
   ]
  },
  {
   "cell_type": "code",
   "execution_count": 30,
   "id": "30b58a7b",
   "metadata": {},
   "outputs": [],
   "source": [
    "X=data.iloc[:,4:10].values\n",
    "y=data.iloc[:,-1:].values"
   ]
  },
  {
   "cell_type": "code",
   "execution_count": 31,
   "id": "0397b4e8",
   "metadata": {},
   "outputs": [
    {
     "data": {
      "text/plain": [
       "(1991, 6)"
      ]
     },
     "execution_count": 31,
     "metadata": {},
     "output_type": "execute_result"
    }
   ],
   "source": [
    "X.shape"
   ]
  },
  {
   "cell_type": "code",
   "execution_count": 32,
   "id": "2f6bc6f9",
   "metadata": {},
   "outputs": [
    {
     "data": {
      "text/plain": [
       "(1991, 1)"
      ]
     },
     "execution_count": 32,
     "metadata": {},
     "output_type": "execute_result"
    }
   ],
   "source": [
    "y.shape"
   ]
  },
  {
   "cell_type": "code",
   "execution_count": 33,
   "id": "b75a0c86",
   "metadata": {},
   "outputs": [],
   "source": [
    "from sklearn.model_selection import train_test_split\n",
    "X_train,X_test,y_train,y_test = train_test_split(X,y,test_size=0.2,random_state=10)"
   ]
  },
  {
   "cell_type": "code",
   "execution_count": 34,
   "id": "2d8592c5",
   "metadata": {},
   "outputs": [],
   "source": [
    "from sklearn.preprocessing import StandardScaler\n",
    "sc = StandardScaler()\n",
    "X_train = sc.fit_transform(X_train)\n",
    "X_test = sc.transform(X_test)"
   ]
  },
  {
   "cell_type": "code",
   "execution_count": 35,
   "id": "41501a5b",
   "metadata": {},
   "outputs": [
    {
     "name": "stderr",
     "output_type": "stream",
     "text": [
      "C:\\Users\\LENOVO\\AppData\\Local\\Temp\\ipykernel_3744\\1197134359.py:3: DataConversionWarning: A column-vector y was passed when a 1d array was expected. Please change the shape of y to (n_samples,), for example using ravel().\n",
      "  rfr.fit(X_train,y_train)\n"
     ]
    }
   ],
   "source": [
    "from sklearn.ensemble import RandomForestRegressor\n",
    "rfr=RandomForestRegressor()\n",
    "rfr.fit(X_train,y_train)\n",
    "y_pred=rfr.predict(X_test)"
   ]
  },
  {
   "cell_type": "code",
   "execution_count": 36,
   "id": "cf3764e8",
   "metadata": {},
   "outputs": [
    {
     "data": {
      "text/plain": [
       "array([32.2264, 76.0866, 93.8218, 88.1964, 67.2204, 93.8798, 70.5976,\n",
       "       82.742 , 30.4768, 88.1306, 88.249 , 82.94  , 71.8818, 79.64  ,\n",
       "       82.94  , 81.7694, 33.8914, 72.4338, 69.946 , 73.1578, 77.5098,\n",
       "       61.7072, 81.8912, 82.58  , 85.2564, 33.2098, 83.6478, 61.4344,\n",
       "       72.4024, 88.2   , 66.1026, 74.858 , 88.38  , 50.1876, 85.2546,\n",
       "       72.1804, 87.66  , 87.6636, 72.784 , 84.1568, 82.04  , 80.0142,\n",
       "       72.06  , 45.1946, 88.56  , 71.3436, 68.3762, 92.7882, 66.4364,\n",
       "       41.2778, 68.3034, 91.6598, 55.8088, 82.94  , 76.4192, 83.4736,\n",
       "       82.04  , 71.4858, 78.6492, 70.8   , 83.5236, 61.08  , 88.7124,\n",
       "       44.2458, 55.82  , 87.7086, 79.5034, 71.3118, 66.4962, 82.832 ,\n",
       "       92.7126, 93.5926, 83.52  , 87.66  , 72.86  , 88.515 , 82.94  ,\n",
       "       89.138 , 82.58  , 82.7564, 83.7468, 76.0444, 77.7356, 84.2362,\n",
       "       88.4988, 65.4338, 62.2796, 83.7   , 94.18  , 70.9198, 76.223 ,\n",
       "       77.3496, 66.5524, 84.8248, 55.9324, 43.4426, 82.76  , 43.4426,\n",
       "       79.46  , 82.9998, 85.1234, 77.116 , 66.7878, 73.2086, 82.94  ,\n",
       "       44.3582, 82.04  , 61.3838, 87.66  , 79.6596, 94.18  , 82.94  ,\n",
       "       84.095 , 76.4346, 66.44  , 78.5952, 88.2   , 81.334 , 78.0746,\n",
       "       77.0248, 89.046 , 82.0774, 83.7   , 72.06  , 73.0246, 71.8686,\n",
       "       66.8274, 83.858 , 82.4   , 66.844 , 66.7538, 55.865 , 70.8108,\n",
       "       66.44  , 87.7762, 72.06  , 82.94  , 92.7982, 69.4306, 93.3774,\n",
       "       77.7426, 79.5022, 55.82  , 82.4   , 73.6336, 52.068 , 93.6184,\n",
       "       91.0928, 78.857 , 82.58  , 88.38  , 82.94  , 88.038 , 76.1636,\n",
       "       50.1492, 82.04  , 69.523 , 88.38  , 93.3774, 79.64  , 82.94  ,\n",
       "       62.0138, 79.64  , 66.44  , 67.06  , 61.102 , 82.76  , 82.76  ,\n",
       "       79.6364, 79.64  , 83.8012, 82.58  , 83.5848, 88.3818, 71.4906,\n",
       "       79.5248, 88.56  , 88.2018, 82.94  , 82.4   , 78.2286, 69.5504,\n",
       "       87.644 , 83.7   , 93.5996, 64.2034, 64.8282, 48.6416, 77.8064,\n",
       "       50.2   , 73.0382, 83.2662, 81.5776, 50.2   , 82.58  , 94.122 ,\n",
       "       88.3782, 71.2176, 82.049 , 56.6616, 70.8   , 62.527 , 82.98  ,\n",
       "       76.0066, 60.9866, 72.4076, 87.66  , 82.76  , 88.3748, 87.987 ,\n",
       "       88.873 , 93.28  , 73.8564, 72.0582, 82.5234, 88.8356, 71.4186,\n",
       "       66.6198, 78.489 , 55.8008, 87.66  , 72.1624, 83.5236, 44.182 ,\n",
       "       60.636 , 72.5956, 80.7596, 72.2678, 82.04  , 82.76  , 78.439 ,\n",
       "       89.2912, 79.5032, 82.76  , 82.76  , 87.5994, 94.0036, 81.3766,\n",
       "       44.4656, 67.3638, 82.94  , 84.2542, 79.9576, 76.34  , 71.9126,\n",
       "       87.6942, 63.1546, 88.38  , 88.38  , 82.94  , 77.1134, 79.64  ,\n",
       "       85.3088, 46.4416, 76.7296, 61.44  , 94.18  , 51.948 , 73.2008,\n",
       "       88.56  , 88.2   , 39.7652, 70.3804, 72.3316, 82.94  , 73.04  ,\n",
       "       82.76  , 52.05  , 55.9324, 50.4064, 81.3022, 82.7672, 82.5818,\n",
       "       75.5998, 84.9142, 88.2314, 84.3254, 79.6944, 82.589 , 69.6356,\n",
       "       72.2282, 76.3382, 72.06  , 82.904 , 83.6892, 64.234 , 77.7042,\n",
       "       57.8894, 82.04  , 60.507 , 77.1896, 77.8802, 60.3722, 66.44  ,\n",
       "       79.4546, 78.9104, 88.9522, 72.3236, 73.037 , 73.6468, 44.1516,\n",
       "       67.2082, 94.18  , 82.94  , 89.2912, 62.1204, 88.2   , 81.7718,\n",
       "       88.6708, 61.1534, 70.993 , 72.86  , 88.2   , 76.8736, 82.76  ,\n",
       "       82.94  , 79.64  , 71.8094, 82.1752, 70.6592, 62.8564, 84.3474,\n",
       "       66.2842, 82.04  , 72.0582, 76.4704, 82.3664, 88.5492, 76.3382,\n",
       "       77.8896, 88.5006, 50.0118, 49.4036, 84.8784, 61.3446, 72.06  ,\n",
       "       84.0292, 69.6906, 60.316 , 50.0658, 79.6944, 94.18  , 82.76  ,\n",
       "       64.0072, 71.88  , 82.7654, 82.94  , 39.7126, 66.0854, 88.0236,\n",
       "       89.991 , 33.1704, 77.3398, 88.38  , 93.2726, 79.64  , 67.4514,\n",
       "       70.4576, 68.9696, 66.44  , 78.8456, 44.6632, 33.4714, 76.1798,\n",
       "       85.1912, 83.7   , 83.7   , 70.943 , 78.4386, 82.4178, 72.3496,\n",
       "       88.8744, 66.6438, 45.2442, 66.233 , 73.04  , 93.3268, 55.754 ,\n",
       "       82.76  , 59.8414, 89.4518, 67.0328, 77.6662, 59.3912, 79.64  ,\n",
       "       65.6396, 61.8126, 88.5688, 76.34  , 83.3832, 83.4588, 74.4064,\n",
       "       76.7254, 87.6636, 82.98  , 72.2982, 78.7688, 82.76  , 30.9866])"
      ]
     },
     "execution_count": 36,
     "metadata": {},
     "output_type": "execute_result"
    }
   ],
   "source": [
    "y_pred"
   ]
  },
  {
   "cell_type": "code",
   "execution_count": 37,
   "id": "02d90010",
   "metadata": {},
   "outputs": [],
   "source": [
    "from sklearn import metrics"
   ]
  },
  {
   "cell_type": "code",
   "execution_count": 38,
   "id": "e6fd92a7",
   "metadata": {},
   "outputs": [
    {
     "name": "stdout",
     "output_type": "stream",
     "text": [
      "MAE:  0.8845729323308585\n",
      "MSE:  5.087236515388475\n",
      "RMSE:  0.9405173748160416\n"
     ]
    }
   ],
   "source": [
    "print('MAE: ',metrics.mean_absolute_error(y_test, y_pred))\n",
    "print('MSE: ',metrics.mean_squared_error(y_test, y_pred))\n",
    "print('RMSE: ',np.sqrt(metrics.mean_absolute_error(y_test, y_pred)))"
   ]
  },
  {
   "cell_type": "code",
   "execution_count": 39,
   "id": "80644bb9",
   "metadata": {},
   "outputs": [
    {
     "data": {
      "text/plain": [
       "0.9722694819035159"
      ]
     },
     "execution_count": 39,
     "metadata": {},
     "output_type": "execute_result"
    }
   ],
   "source": [
    "metrics.r2_score(y_test, y_pred)"
   ]
  },
  {
   "cell_type": "markdown",
   "id": "aafd59a3",
   "metadata": {},
   "source": [
    "# Saving the Model:"
   ]
  },
  {
   "cell_type": "code",
   "execution_count": 41,
   "id": "20be47b6",
   "metadata": {},
   "outputs": [],
   "source": [
    "import pickle\n",
    "pickle.dump(rfr,open('wqa_app.pkl', 'wb'))"
   ]
  }
 ],
 "metadata": {
  "kernelspec": {
   "display_name": "Python 3 (ipykernel)",
   "language": "python",
   "name": "python3"
  },
  "language_info": {
   "codemirror_mode": {
    "name": "ipython",
    "version": 3
   },
   "file_extension": ".py",
   "mimetype": "text/x-python",
   "name": "python",
   "nbconvert_exporter": "python",
   "pygments_lexer": "ipython3",
   "version": "3.9.13"
  }
 },
 "nbformat": 4,
 "nbformat_minor": 5
}
